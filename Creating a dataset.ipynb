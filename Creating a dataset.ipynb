{
 "cells": [
  {
   "cell_type": "code",
   "execution_count": 33,
   "id": "0d94883f",
   "metadata": {},
   "outputs": [],
   "source": [
    "# Import necessary libraries\n",
    "import pandas as pd"
   ]
  },
  {
   "cell_type": "code",
   "execution_count": 34,
   "id": "6562253a",
   "metadata": {},
   "outputs": [],
   "source": [
    "# Create a sample dataset\n",
    "data = {\n",
    "    'Name':['Nkosi','Sennzo','Nathasha','Sipho','Ayanda'],\n",
    "    'Age' :[30,35,24,23,37],\n",
    "    'City' :['Boksburg','Cape Town','Johannesburg','Pretoria','Brits'],\n",
    "    'Salary':[50000,60000,45000,70000,55000]\n",
    "}"
   ]
  },
  {
   "cell_type": "code",
   "execution_count": 35,
   "id": "2499fea2",
   "metadata": {},
   "outputs": [],
   "source": [
    "# Create a dataframe from the sample data\n",
    "df = pd.DataFrame(data)\n"
   ]
  },
  {
   "cell_type": "code",
   "execution_count": 36,
   "id": "cbc29fe8",
   "metadata": {},
   "outputs": [
    {
     "name": "stdout",
     "output_type": "stream",
     "text": [
      "Orignal Data:\n",
      "       Name  Age          City  Salary\n",
      "0     Nkosi   30      Boksburg   50000\n",
      "1    Sennzo   35     Cape Town   60000\n",
      "2  Nathasha   24  Johannesburg   45000\n",
      "3     Sipho   23      Pretoria   70000\n",
      "4    Ayanda   37         Brits   55000\n"
     ]
    }
   ],
   "source": [
    "# Display the orignal data\n",
    "print(\"Orignal Data:\")\n",
    "print(df)\n"
   ]
  },
  {
   "cell_type": "code",
   "execution_count": 37,
   "id": "099dd769",
   "metadata": {},
   "outputs": [],
   "source": [
    "# Data filtering\n",
    "# select rows where age is greater than 23\n",
    "filtered_df = df[df['Age']>25]\n"
   ]
  },
  {
   "cell_type": "code",
   "execution_count": 38,
   "id": "441c02ef",
   "metadata": {},
   "outputs": [],
   "source": [
    "# Data sorting \n",
    "# sort the DataFrame by salary in descending order\n",
    "sorted_df = df.sort_values(by='Salary', ascending=False)\n"
   ]
  },
  {
   "cell_type": "code",
   "execution_count": 43,
   "id": "4e5affaa",
   "metadata": {},
   "outputs": [],
   "source": [
    "# Data Grouping and Aggregation\n",
    "# Group data by city and calculate the average salary in each city\n",
    "grouped_df = df.groupby('City')['Salary'].mean().reset_index()\n",
    "\n",
    "\n"
   ]
  },
  {
   "cell_type": "code",
   "execution_count": 44,
   "id": "734ef367",
   "metadata": {},
   "outputs": [
    {
     "name": "stdout",
     "output_type": "stream",
     "text": [
      "\n",
      "Filtered Data (Age> 25):\n",
      "     Name  Age       City  Salary\n",
      "0   Nkosi   30   Boksburg   50000\n",
      "1  Sennzo   35  Cape Town   60000\n",
      "4  Ayanda   37      Brits   55000\n"
     ]
    }
   ],
   "source": [
    "# Display the results\n",
    "print(\"\\nFiltered Data (Age> 25):\")\n",
    "print(filtered_df)\n"
   ]
  },
  {
   "cell_type": "code",
   "execution_count": 45,
   "id": "4eaa2885",
   "metadata": {},
   "outputs": [
    {
     "name": "stdout",
     "output_type": "stream",
     "text": [
      "\n",
      "Grouped and Aggregated Data (Average Salary by city):\n",
      "           City   Salary\n",
      "0      Boksburg  50000.0\n",
      "1         Brits  55000.0\n",
      "2     Cape Town  60000.0\n",
      "3  Johannesburg  45000.0\n",
      "4      Pretoria  70000.0\n"
     ]
    }
   ],
   "source": [
    "print(\"\\nGrouped and Aggregated Data (Average Salary by city):\")\n",
    "print(grouped_df)\n"
   ]
  },
  {
   "cell_type": "code",
   "execution_count": 46,
   "id": "aa8fa4f1",
   "metadata": {},
   "outputs": [
    {
     "name": "stdout",
     "output_type": "stream",
     "text": [
      "\n",
      "Sorted Data(by Salary):\n",
      "       Name  Age          City  Salary\n",
      "3     Sipho   23      Pretoria   70000\n",
      "1    Sennzo   35     Cape Town   60000\n",
      "4    Ayanda   37         Brits   55000\n",
      "0     Nkosi   30      Boksburg   50000\n",
      "2  Nathasha   24  Johannesburg   45000\n"
     ]
    }
   ],
   "source": [
    "print(\"\\nSorted Data(by Salary):\")\n",
    "print(sorted_df)\n"
   ]
  },
  {
   "cell_type": "code",
   "execution_count": null,
   "id": "60200bae",
   "metadata": {},
   "outputs": [],
   "source": []
  }
 ],
 "metadata": {
  "kernelspec": {
   "display_name": "Python 3 (ipykernel)",
   "language": "python",
   "name": "python3"
  },
  "language_info": {
   "codemirror_mode": {
    "name": "ipython",
    "version": 3
   },
   "file_extension": ".py",
   "mimetype": "text/x-python",
   "name": "python",
   "nbconvert_exporter": "python",
   "pygments_lexer": "ipython3",
   "version": "3.11.4"
  }
 },
 "nbformat": 4,
 "nbformat_minor": 5
}
